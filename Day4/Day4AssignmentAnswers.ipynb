{
 "cells": [
  {
   "cell_type": "markdown",
   "metadata": {},
   "source": [
    "#Question 1 :\n",
    "#Find all occurrence of substring in the given string\n",
    "# “what we think we become; we are Python programmer”\n",
    "#Print the index values."
   ]
  },
  {
   "cell_type": "code",
   "execution_count": 2,
   "metadata": {},
   "outputs": [
    {
     "name": "stdout",
     "output_type": "stream",
     "text": [
      "what we think we become; we are python programmer.\n",
      "we\n",
      "3\n",
      "5\n",
      "25\n"
     ]
    }
   ],
   "source": [
    "str1 = \"what we think we become; we are python programmer.\"\n",
    "print(str1)\n",
    "str2 = \"we\"\n",
    "print(str2)\n",
    "print(str1.count(str2))\n",
    "print(str1.find(str2))\n",
    "print(str1.rfind(str2))"
   ]
  },
  {
   "cell_type": "markdown",
   "metadata": {},
   "source": [
    "#Question 2 :\n",
    "#Explain using\n",
    "#islower()\n",
    "#isupper()\n",
    "#with different kinds of strings."
   ]
  },
  {
   "cell_type": "code",
   "execution_count": 4,
   "metadata": {},
   "outputs": [
    {
     "name": "stdout",
     "output_type": "stream",
     "text": [
      "I am Amol.\n",
      "String isLower?  False\n",
      "String isUpper?  False\n"
     ]
    }
   ],
   "source": [
    "st1 = \"I am Amol.\"\n",
    "print(st1)\n",
    "print(\"String isLower? \", st1.islower())\n",
    "print(\"String isUpper? \", st1.isupper())"
   ]
  },
  {
   "cell_type": "code",
   "execution_count": 6,
   "metadata": {},
   "outputs": [
    {
     "name": "stdout",
     "output_type": "stream",
     "text": [
      "I am Amol.\n",
      "String isLower?  False\n",
      "String isUpper?  False\n"
     ]
    }
   ],
   "source": [
    "st1 = \"I am Amol.\"\n",
    "print(st1)\n",
    "print(\"String isLower? \", st1.islower())\n",
    "print(\"String isUpper? \", st1.isupper())"
   ]
  },
  {
   "cell_type": "code",
   "execution_count": null,
   "metadata": {},
   "outputs": [],
   "source": []
  }
 ],
 "metadata": {
  "kernelspec": {
   "display_name": "Python 3",
   "language": "python",
   "name": "python3"
  },
  "language_info": {
   "codemirror_mode": {
    "name": "ipython",
    "version": 3
   },
   "file_extension": ".py",
   "mimetype": "text/x-python",
   "name": "python",
   "nbconvert_exporter": "python",
   "pygments_lexer": "ipython3",
   "version": "3.7.6"
  }
 },
 "nbformat": 4,
 "nbformat_minor": 4
}
