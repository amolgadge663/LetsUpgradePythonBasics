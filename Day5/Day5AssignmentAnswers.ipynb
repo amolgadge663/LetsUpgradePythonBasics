{
 "cells": [
  {
   "cell_type": "markdown",
   "metadata": {},
   "source": [
    "#Question 1 :\n",
    "#[0,1,2,10,4,1,0,56,2,0,1,3,0,56,0,4]\n",
    "#Sort by increasing order but all zeros should be at the right hand side."
   ]
  },
  {
   "cell_type": "code",
   "execution_count": 4,
   "metadata": {},
   "outputs": [
    {
     "name": "stdout",
     "output_type": "stream",
     "text": [
      "[1, 1, 1, 2, 2, 3, 4, 4, 10, 56, 56, 0, 0, 0, 0, 0]\n"
     ]
    }
   ],
   "source": [
    "ls = [0,1,2,10,4,1,0,56,2,0,1,3,0,56,0,4]\n",
    "ls.sort()\n",
    "ls1 = []\n",
    "ls2 = []\n",
    "ls3 = []\n",
    "\n",
    "for i in ls:\n",
    "    if i == 0:\n",
    "        ls1.append(i)\n",
    "    if i > 0:\n",
    "        ls2.append(i)\n",
    "        \n",
    "ls3 = ls2 + ls1\n",
    "\n",
    "print(ls3)"
   ]
  },
  {
   "cell_type": "markdown",
   "metadata": {},
   "source": [
    "#Question 2 :\n",
    "#list1=[10,20,40,60,70,80] sorted list\n",
    "#list2=[5,15,25,35,45,60] sorted list\n",
    "#Merge these two sorted lists to produce one sorted list, but use only loop either while or for only one time."
   ]
  },
  {
   "cell_type": "code",
   "execution_count": 8,
   "metadata": {},
   "outputs": [
    {
     "name": "stdout",
     "output_type": "stream",
     "text": [
      "[5, 10, 15, 20, 25, 35, 40, 45, 60, 60, 70, 80]\n"
     ]
    }
   ],
   "source": [
    "ls1 = [10,20,40,60,70,80]\n",
    "ls2 = [5,15,25,35,45,60]\n",
    "\n",
    "ls3 = ls1 + ls2\n",
    "\n",
    "print(sorted(ls3))"
   ]
  },
  {
   "cell_type": "markdown",
   "metadata": {},
   "source": [
    "-----------------------------------second method using navie mathod"
   ]
  },
  {
   "cell_type": "code",
   "execution_count": 10,
   "metadata": {},
   "outputs": [
    {
     "name": "stdout",
     "output_type": "stream",
     "text": [
      "The original list 1 is : [10, 20, 40, 60, 70, 80]\n",
      "The original list 2 is : [5, 15, 25, 35, 45, 60]\n",
      "The combined sorted list is : [5, 10, 15, 20, 25, 35, 40, 45, 60, 60, 70, 80]\n"
     ]
    }
   ],
   "source": [
    "# Python3 code to demonstrate \n",
    "# to combine two sorted list \n",
    "# using naive method \n",
    "\n",
    "# initializing lists \n",
    "test_list1 = [10,20,40,60,70,80] \n",
    "test_list2 = [5,15,25,35,45,60] \n",
    "\n",
    "# printing original lists \n",
    "print (\"The original list 1 is : \" + str(test_list1)) \n",
    "print (\"The original list 2 is : \" + str(test_list2)) \n",
    "\n",
    "# using naive method \n",
    "# to combine two sorted lists \n",
    "size_1 = len(test_list1) \n",
    "size_2 = len(test_list2) \n",
    "\n",
    "res = [] \n",
    "i, j = 0, 0\n",
    "\n",
    "while i < size_1 and j < size_2:\n",
    "    if test_list1[i] < test_list2[j]:\n",
    "        res.append(test_list1[i])\n",
    "        i += 1\n",
    "    else:\n",
    "        res.append(test_list2[j])\n",
    "        j += 1\n",
    "\n",
    "res = res + test_list1[i:] + test_list2[j:] \n",
    "\n",
    "# printing result \n",
    "print (\"The combined sorted list is : \" + str(res)) \n"
   ]
  },
  {
   "cell_type": "code",
   "execution_count": null,
   "metadata": {},
   "outputs": [],
   "source": []
  }
 ],
 "metadata": {
  "kernelspec": {
   "display_name": "Python 3",
   "language": "python",
   "name": "python3"
  },
  "language_info": {
   "codemirror_mode": {
    "name": "ipython",
    "version": 3
   },
   "file_extension": ".py",
   "mimetype": "text/x-python",
   "name": "python",
   "nbconvert_exporter": "python",
   "pygments_lexer": "ipython3",
   "version": "3.7.6"
  }
 },
 "nbformat": 4,
 "nbformat_minor": 4
}
